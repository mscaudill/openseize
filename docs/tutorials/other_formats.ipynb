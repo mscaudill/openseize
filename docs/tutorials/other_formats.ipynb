{
 "cells": [
  {
   "cell_type": "markdown",
   "id": "14546a66",
   "metadata": {},
   "source": [
    "## Imports"
   ]
  },
  {
   "cell_type": "code",
   "execution_count": 45,
   "id": "0668b202",
   "metadata": {},
   "outputs": [],
   "source": [
    "from openseize.file_io import bases\n",
    "from openseize.file_io import edf\n",
    "from openseize.demos import paths\n",
    "import matplotlib.pyplot as plt"
   ]
  },
  {
   "cell_type": "markdown",
   "id": "c7ed7132",
   "metadata": {},
   "source": [
    "## Introduction"
   ]
  },
  {
   "cell_type": "markdown",
   "id": "fbefb55c",
   "metadata": {},
   "source": [
    "<font size=3>Currently, there is no agreed upon format for EEG files. Openseize can build producers from an EDF reader, numpy arrays or numpy memmapped arrays. <font color='darkcyan'><b>This tutorial provides guidance to users and developers who wish to use Openseize with non-EDF file types.</b></font> There are two main considerations; the type of file you want to read and the size of your files. This guide is broken down into the following sections:"
   ]
  },
  {
   "cell_type": "markdown",
   "id": "f642c41b",
   "metadata": {},
   "source": [
    "- [Data Acquisition Systems using EDFs](#Data-Acquisition-Systems-using-EDFs)\n",
    "- [Array to NDArray Conversion](#Array-to-NDArray-Conversion)\n",
    "- [File-to-File Conversion](#File-to-File-Conversion)\n",
    "- [Developing New Readers](#Developing-New-Readers)"
   ]
  },
  {
   "cell_type": "markdown",
   "id": "ca98f214",
   "metadata": {},
   "source": [
    "## Data Acquisition Systems using EDFs"
   ]
  },
  {
   "cell_type": "markdown",
   "id": "c757389a",
   "metadata": {},
   "source": [
    "<font size=3>EDF files were the first file type chosen for Openseize support because they are used by many [data acquisition systems](https://www.edfplus.info/companies/index.html) and can be iteratively read since they are simple binary files. If you are an experimentalist working with Openseize, we first advise you to check the list above to determine if your data acquisition system supports exporting to the EDF file type."
   ]
  },
  {
   "cell_type": "markdown",
   "id": "871e9a1c",
   "metadata": {},
   "source": [
    "## Array to NDArray Conversion"
   ]
  },
  {
   "cell_type": "markdown",
   "id": "6ed5043d",
   "metadata": {},
   "source": [
    "<font size=3>Openseize's producers can produce from ndarrays and numpy memmaps. If you can convert to an array type, Openseize can work with it. For example, users who have stored data to <font color='firebrick'>*.mat files </font> have two options depending on the file size. For small files you can use <font color='firebrick'>scipy.io.loadmat</font> to convert your *.mat file to an in-memory ndarray. For large files, [saved with the 7.3 mat version flag](https://www.mathworks.com/help/matlab/large-mat-files.html) you can use the [h5py library](https://www.h5py.org/) to read the files to a numpy memmap or [build an HDF5 reader](#Developing-New-Readers)."
   ]
  },
  {
   "cell_type": "markdown",
   "id": "5baebc12",
   "metadata": {},
   "source": [
    "## File to File Conversion"
   ]
  },
  {
   "cell_type": "markdown",
   "id": "911132fc",
   "metadata": {},
   "source": [
    "### Using Openseize's edf.Writer"
   ]
  },
  {
   "cell_type": "markdown",
   "id": "03f0beea",
   "metadata": {},
   "source": [
    "<font size=3>In addition to an EDF Reader, Openseize has an EDF Writer that can write EDF files given a header mapping and a data source. This source may be an ndarray, a numpy memmap, or a reader instance with a read method. The writers only publicly available method is the 'write' method:"
   ]
  },
  {
   "cell_type": "code",
   "execution_count": 11,
   "id": "9e480ee6",
   "metadata": {},
   "outputs": [
    {
     "name": "stdout",
     "output_type": "stream",
     "text": [
      "Help on function write in module openseize.file_io.edf:\n",
      "\n",
      "write(self, header: openseize.file_io.edf.Header, data: Union[numpy.ndarray, openseize.file_io.edf.Reader], channels: Sequence[int], verbose: bool = True) -> None\n",
      "    Write header metadata and data for channel in channels to this\n",
      "    Writer's file instance.\n",
      "    \n",
      "    Args:\n",
      "        header:\n",
      "            A mapping of EDF compliant fields and values.\n",
      "        data:\n",
      "            An array with shape (channels, samples) or Reader instance.\n",
      "        channels:\n",
      "            Channel indices to write to this Writer's open file.\n",
      "        verbose:\n",
      "            An option to print progress of write.\n",
      "    \n",
      "    Raises:\n",
      "        ValueErrror: An error occurs if samples to be written is not\n",
      "                     divisible by the number of records in the Header\n",
      "                     instance.\n",
      "\n"
     ]
    }
   ],
   "source": [
    "help(edf.Writer.write)"
   ]
  },
  {
   "cell_type": "markdown",
   "id": "799d002d",
   "metadata": {},
   "source": [
    "<font size=3>This method requires both data and a header instance. The header is an extended dict that contains all the fields expected of an EDF compliant header. Here is the example header from our demo data:"
   ]
  },
  {
   "cell_type": "code",
   "execution_count": 27,
   "id": "d40199a8",
   "metadata": {},
   "outputs": [
    {
     "name": "stdout",
     "output_type": "stream",
     "text": [
      "{'version': '0',\n",
      " 'patient': 'PIN-42 M 11-MAR-1952 Animal',\n",
      " 'recording': 'Startdate 15-AUG-2020 X X X',\n",
      " 'start_date': '15.08.20',\n",
      " 'start_time': '09.59.15',\n",
      " 'header_bytes': 1536,\n",
      " 'reserved_0': 'EDF+C',\n",
      " 'num_records': 3775,\n",
      " 'record_duration': 1.0,\n",
      " 'num_signals': 5,\n",
      " 'names': ['EEG EEG_1_SA-B', 'EEG EEG_2_SA-B', 'EEG EEG_3_SA-B',\n",
      "           'EEG EEG_4_SA-B', 'EDF Annotations'],\n",
      " 'transducers': ['8401 HS:15279', '8401 HS:15279', '8401 HS:15279',\n",
      "                 '8401 HS:15279', ''],\n",
      " 'physical_dim': ['uV', 'uV', 'uV', 'uV', ''],\n",
      " 'physical_min': [-8144.31, -8144.31, -8144.31, -8144.31, -1.0],\n",
      " 'physical_max': [8144.319, 8144.319, 8144.319, 8144.319, 1.0],\n",
      " 'digital_min': [-8192.0, -8192.0, -8192.0, -8192.0, -32768.0],\n",
      " 'digital_max': [8192.0, 8192.0, 8192.0, 8192.0, 32767.0],\n",
      " 'prefiltering': ['none', 'none', 'none', 'none', ''],\n",
      " 'samples_per_record': [5000, 5000, 5000, 5000, 1024],\n",
      " 'reserved_1': ['', '', '', '', '']}\n",
      "\n",
      "{'Accessible Properties': ['annotated', 'annotation', 'channels', 'offsets',\n",
      "                           'record_map', 'samples', 'slopes']}\n"
     ]
    }
   ],
   "source": [
    "# This is an example header from the demo file\n",
    "fp = paths.locate('recording_001.edf')\n",
    "reader = edf.Reader(fp)\n",
    "print(reader.header)"
   ]
  },
  {
   "cell_type": "markdown",
   "id": "382d4748",
   "metadata": {},
   "source": [
    "<font size=3> You can pass a header dict to the Header.from_dict method to create an edf compliant header for the Writer's write method."
   ]
  },
  {
   "cell_type": "code",
   "execution_count": 26,
   "id": "83dc470b",
   "metadata": {},
   "outputs": [
    {
     "name": "stdout",
     "output_type": "stream",
     "text": [
      "Help on method from_dict in module openseize.file_io.edf:\n",
      "\n",
      "from_dict(dic: Dict) -> 'Header' method of builtins.type instance\n",
      "    Alternative constructor for creating a Header from a bytemap.\n",
      "    \n",
      "    Args:\n",
      "        dic:\n",
      "            A dictionary containing all expected bytemap keys.\n",
      "\n"
     ]
    }
   ],
   "source": [
    "help(edf.Header.from_dict)"
   ]
  },
  {
   "cell_type": "markdown",
   "id": "26a67a33",
   "metadata": {},
   "source": [
    "<font size=3>Once you've built your header you can supply this along with a data array to the write method to write a new EDF file."
   ]
  },
  {
   "cell_type": "markdown",
   "id": "de4f0357",
   "metadata": {},
   "source": [
    "### Using MNE-Python io.export_raw"
   ]
  },
  {
   "cell_type": "markdown",
   "id": "2ab77800",
   "metadata": {},
   "source": [
    "<font size=3>Several packages provide file conversion. The MNE-Python package can read a large variety of file types with its [read_raw](https://mne.tools/dev/generated/mne.io.read_raw.html#mne.io.read_raw) function. Once read, MNE has an [export_raw](https://mne.tools/dev/generated/mne.export.export_raw.html#mne.export.export_raw) function that can export to the EDF file type. **Please be aware that the exporter in MNE loads the data before writing** so this option is not suitable for large data files."
   ]
  },
  {
   "cell_type": "markdown",
   "id": "85b46b2d",
   "metadata": {},
   "source": [
    "## Developing New Readers"
   ]
  },
  {
   "cell_type": "markdown",
   "id": "adc41870",
   "metadata": {},
   "source": [
    "<font size=3>One of the important aims in Openseize's development is extensibility. In the context of Openseize's Readers, this is achieved by defining the exact methods you must supply in order to build a reader that can be produced from. The *Abstract Base Class* Reader is the mechanism which checks that you have implemented all the required methods. Lets take a look at these required methods."
   ]
  },
  {
   "cell_type": "code",
   "execution_count": 47,
   "id": "c2763119",
   "metadata": {},
   "outputs": [
    {
     "name": "stdout",
     "output_type": "stream",
     "text": [
      "Help on property:\n",
      "\n",
      "    Returns the channels that this Reader will read.\n",
      "\n"
     ]
    }
   ],
   "source": [
    "help(bases.Reader.channels)"
   ]
  },
  {
   "cell_type": "code",
   "execution_count": null,
   "id": "a3f5b8b7",
   "metadata": {},
   "outputs": [],
   "source": []
  }
 ],
 "metadata": {
  "kernelspec": {
   "display_name": "Python 3 (ipykernel)",
   "language": "python",
   "name": "python3"
  },
  "language_info": {
   "codemirror_mode": {
    "name": "ipython",
    "version": 3
   },
   "file_extension": ".py",
   "mimetype": "text/x-python",
   "name": "python",
   "nbconvert_exporter": "python",
   "pygments_lexer": "ipython3",
   "version": "3.10.8"
  }
 },
 "nbformat": 4,
 "nbformat_minor": 5
}
